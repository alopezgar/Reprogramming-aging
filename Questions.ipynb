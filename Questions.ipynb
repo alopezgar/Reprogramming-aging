{
  "nbformat": 4,
  "nbformat_minor": 0,
  "metadata": {
    "colab": {
      "name": "Questions.ipynb",
      "provenance": [],
      "authorship_tag": "ABX9TyOM6UuU1KguCG/7MR9qVbxa",
      "include_colab_link": true
    },
    "kernelspec": {
      "name": "python3",
      "display_name": "Python 3"
    },
    "language_info": {
      "name": "python"
    }
  },
  "cells": [
    {
      "cell_type": "markdown",
      "metadata": {
        "id": "view-in-github",
        "colab_type": "text"
      },
      "source": [
        "<a href=\"https://colab.research.google.com/github/alopezgar/Reprogramming-aging/blob/main/Questions.ipynb\" target=\"_parent\"><img src=\"https://colab.research.google.com/assets/colab-badge.svg\" alt=\"Open In Colab\"/></a>"
      ]
    },
    {
      "cell_type": "markdown",
      "source": [
        "#**1.Summary questions:Murine myogenic cell Msx1 reprogramming**\n",
        "\n",
        "---\n",
        "\n"
      ],
      "metadata": {
        "id": "gNwYr7pgg6IQ"
      }
    },
    {
      "cell_type": "markdown",
      "source": [
        "Questions obs: \n",
        "* **10x_lane**: 10xlane is the probability of being a doublet for each cell per sample?  What's the meaning of L7 and L8?.  \n",
        "*   **SMP**: what is SMP? what's msx1n, msx1p, 2FEU and 2FES? \n",
        "* **n_counts**: number of expressed genes per cell?\n",
        "* **perc_mito**: is the % of mitochondrial mRNA ?\n",
        "* **perc_rrna**: is the % of ribosomic rRNA ?\n",
        "* **root**: what's the meaning? True and False?\n",
        "* **experiment**: what is experiment 0 and 1?\n",
        "* **myogenesis**: measure of myogenesis?\n",
        "* **tx_exp**: what is it?\n",
        "\n",
        "Questions layers:\n",
        "* What is the meaning of the counts' structure? -> (0,4) 1 -> (row,column) value ? \n",
        "* What is ind_scale and the difference between ind_scale and ind_scale_bc?"
      ],
      "metadata": {
        "id": "HsmmK8zLhAa6"
      }
    },
    {
      "cell_type": "markdown",
      "source": [
        "#**2.Summary questions: Murine adipogenic cell Yamanaka Factor screen**\n",
        "\n",
        "---\n",
        "\n"
      ],
      "metadata": {
        "id": "qTcMkr1_Md7F"
      }
    },
    {
      "cell_type": "markdown",
      "source": [
        "Questions obs: \n",
        "* what are Adipo**A** and Adipo**Y**?\n",
        "* L1,L2,L3,L4? \n",
        "* which factors are in pool1 and pool2 (sample) ? \n",
        "* categories 0,1,2,3? \n",
        "* batch 0,1,2,3?\n",
        "* experiment 1 and 2?\n",
        "* what is perc_tg?\n",
        "Questions layers:\n",
        "* What  is cpm?\n",
        "\n",
        "Questions uns: \n",
        "* <f8,<f4?\n",
        "\n",
        "Questions var:\n",
        "* Clasification of transcript support level?: \n",
        "  * 1 (all splice junctions of the transcript are supported by at least one non-suspect mRNA),\n",
        "  * 2 (the best supporting mRNA is flagged as suspect or the support is from multiple ESTs),\n",
        "  * 3 (the only support is from a single EST),\n",
        "  * 4 (the best supporting EST is flagged as suspect),\n",
        "  * 5 (no single transcript supports the model structure),\n",
        "  * 6 (the transcript was not analyzed)\n",
        "* What variable is used to compute the mean?\n",
        "* What method is used to normalize dispersion ? \n"
      ],
      "metadata": {
        "id": "Ql2qz9WGjFbz"
      }
    },
    {
      "cell_type": "markdown",
      "source": [
        "#**3.Summary questions: Murine mesenchymal stem cell Yamanaka Factor screen**"
      ],
      "metadata": {
        "id": "wRc4_-R3am5J"
      }
    },
    {
      "cell_type": "markdown",
      "source": [
        "Questions vars:\n",
        "* Why are gene_id_0 and gene_id_1 (all variables)?\n"
      ],
      "metadata": {
        "id": "nvLCFUMrWN7b"
      }
    },
    {
      "cell_type": "markdown",
      "source": [
        "#**4.Summary questions: Murine mesenchymal stem cell polycistronic reprogramming**"
      ],
      "metadata": {
        "id": "J2Su-nywWVvT"
      }
    },
    {
      "cell_type": "markdown",
      "source": [
        "Questions obs: \n",
        "* what are animals 1,2,3,unknown?\n",
        "* categories 0,1,2,3? \n",
        "* batch 0,1,2,3?\n",
        "* sample L1,L2,L3,L4?\n",
        "* what is the difference between multiseq_derived_treatment and treatment?\n",
        "* end point: last state of reprogramming ? \n",
        "* hash: animal origin. What is the meaning of H1,H2,H3,H4,H5,H6,negative?\n",
        "* velocity self transition: self-renewal?\n",
        "* state: \n",
        "  * cycling: doing cell-division cycle (series of events that take place in a cell that cause it to divide into two daughter cells)\n",
        "  * Dox+ baseline: baseline conditions with doxycycline (dox+)\n",
        "  * Col11a1 high: Mesenchyme-derived tumors \n",
        "  * reprogramming cycling: doing reprogramming cycle?\n",
        "  * reprogramming: reprogrammed cell?\n",
        "  * reprogramming intermediate: ?\n",
        "  * Tg+ baseline: transgene positive\n",
        "\n",
        "Questions vars :\n",
        "* Spliced and unspliced: ARN sequence? "
      ],
      "metadata": {
        "id": "aKU7EIbfZsC1"
      }
    },
    {
      "cell_type": "markdown",
      "source": [
        "#**5.Summarize questions: Murine adipogenic cell polycistronic reprogramming**"
      ],
      "metadata": {
        "id": "CVxCkGG-bguK"
      }
    },
    {
      "cell_type": "markdown",
      "source": [
        "Questions obs: \n",
        "* what is the difference between state, substate adn full state?\n",
        "* what is the meaning of 2FED, 2FEE, 2FEH, 2FEK (SMP)?\n",
        "\n",
        "Questions var: \n",
        "* what is the difference between geneid-0,1,2,3...? \n",
        "* what is n_cells? and p_cells? "
      ],
      "metadata": {
        "id": "IPCtNcLph0h4"
      }
    }
  ]
}